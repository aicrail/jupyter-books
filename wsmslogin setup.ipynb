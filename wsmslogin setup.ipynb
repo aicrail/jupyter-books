{
    "metadata": {
        "kernelspec": {
            "name": "SQL",
            "display_name": "SQL",
            "language": "sql"
        },
        "language_info": {
            "name": "sql",
            "version": ""
        }
    },
    "nbformat_minor": 2,
    "nbformat": 4,
    "cells": [
        {
            "cell_type": "markdown",
            "source": [
                "## **Login user setup for WSMS**\n",
                "\n",
                "After importing a database, you need to set up the wsmslogin user in both the server and the database."
            ],
            "metadata": {
                "azdata_cell_guid": "0e8ad1fc-c9f4-469e-bd48-f5ebcfaa7f2a"
            },
            "attachments": {}
        },
        {
            "cell_type": "markdown",
            "source": [
                "Run the follwoing to set up the usmslogin user at the server level. \n",
                "\n",
                "<span style=\"color: #008000;\"><b>BEFORE EXECUTING THIS SCRIPT, MAKE SURE THE DATABASE NAME MATCHES YOUR DATABASE. RENAME \"WSMS6\" in the below script to match your database name.</b></span>"
            ],
            "metadata": {
                "azdata_cell_guid": "6a8348ff-d9ca-4dac-86fb-6a4c053e9b67"
            },
            "attachments": {}
        },
        {
            "cell_type": "code",
            "source": [
                "\r\n",
                "--Create User  - this is server level\r\n",
                "\r\n",
                "EXEC ('\r\n",
                "IF NOT EXISTS (SELECT loginname FROM master.dbo.syslogins WHERE name = N''WSMSlogin'')\r\n",
                "BEGIN\r\n",
                "    PRINT ''Creating Login WSMSLogin''\r\n",
                "    EXEC (''CREATE LOGIN [WSMSlogin] WITH PASSWORD=N''''9853440'''', DEFAULT_DATABASE='' + ''WSMS6_UTCRAS'' + '', DEFAULT_LANGUAGE=[us_english], CHECK_EXPIRATION=OFF, CHECK_POLICY=OFF'')\r\n",
                "    PRINT ''Login WSMSLogin Created''\r\n",
                "END\r\n",
                "')"
            ],
            "metadata": {
                "azdata_cell_guid": "1bad1ad1-20e0-4d8d-b3dd-5eac6fd888cd",
                "language": "sql"
            },
            "outputs": [],
            "execution_count": null
        },
        {
            "cell_type": "markdown",
            "source": [
                "Now run the following to set up the wsmslogin user for the database\n",
                "\n",
                "**BEFORE EXECUTING THIS SCRIPT, MAKE SURE THE DATABASE NAME MATCHES YOUR DATABASE. RENAME \"WSMS6\" in the below script to match your database name.**"
            ],
            "metadata": {
                "language": "sql",
                "azdata_cell_guid": "07b3fc29-1a3f-4a6a-905a-dea92e9f0103"
            },
            "attachments": {}
        },
        {
            "cell_type": "code",
            "source": [
                "\r\n",
                "--Create User  - this is database level\r\n",
                "\r\n",
                "EXEC ('USE ' + 'WSMS6' + ';' +\r\n",
                "'IF NOT EXISTS(SELECT * FROM ' + 'WSMS6' + '.sys.database_principals WHERE name = N''WSMSuser'' )\r\n",
                "BEGIN\r\n",
                "    PRINT ''Creating User WSMSuser''\r\n",
                "      \r\n",
                "    CREATE USER [WSMSUser] FOR LOGIN [WSMSlogin] WITH DEFAULT_SCHEMA=[dbo];\r\n",
                "    GRANT ALTER TO [WSMSuser] AS [dbo];\r\n",
                "    GRANT BACKUP DATABASE TO [WSMSuser] AS [dbo];\r\n",
                "    GRANT BACKUP LOG TO [WSMSuser] AS [dbo];\r\n",
                "    GRANT CONNECT TO [WSMSuser] AS [dbo];\r\n",
                "    GRANT CREATE TABLE TO [WSMSuser] AS [dbo];\r\n",
                "    GRANT EXECUTE TO [WSMSuser] AS [dbo];\r\n",
                "    GRANT INSERT TO [WSMSuser] AS [dbo];\r\n",
                "    GRANT SELECT TO [WSMSuser] AS [dbo];\r\n",
                "    GRANT UPDATE TO [WSMSuser] AS [dbo];\r\n",
                "      \r\n",
                "    PRINT ''User WSMSUser Created''\r\n",
                "END'\r\n",
                ")"
            ],
            "metadata": {
                "language": "sql",
                "azdata_cell_guid": "16d11370-e1ac-4a73-8248-4949e9cbbcd4"
            },
            "outputs": [],
            "execution_count": null
        }
    ]
}